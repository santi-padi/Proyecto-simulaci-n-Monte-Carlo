{
 "cells": [
  {
   "cell_type": "markdown",
   "id": "451894ea-a29a-4d21-aca2-4384208e0cc0",
   "metadata": {},
   "source": [
    "# Estimación de Costos de Proyectos de Construcción"
   ]
  },
  {
   "cell_type": "markdown",
   "id": "dc689e03-3e5c-4a8c-9cc1-466a5f361a26",
   "metadata": {},
   "source": [
    "### Integrantes:\n",
    "* Santiago Padilla Arias\n",
    "* Mauricio López Coronado\n",
    "* Jose Manuel Orozco Martínez \n"
   ]
  },
  {
   "cell_type": "markdown",
   "id": "8fc18ddd-ebd9-40ac-9935-4eeff9868dcf",
   "metadata": {},
   "source": [
    "### Objetivos:"
   ]
  },
  {
   "cell_type": "markdown",
   "id": "e6ccd545-989e-4cb4-9345-c51bd0f7d118",
   "metadata": {},
   "source": [
    ">  - 1-.Implementar distribuciones de probabilidad para modelar la variabilidad de los costos principales del proyecto (materiales, mano de obra,equipo,etc.).\n",
    ">  - 2-.Simular múltiples escenarios mediante distribuciones de probabilidad para obtener una distribución del costo total del proyecto.\n",
    ">  - 3-.Determinar la probabilidad de que el costo total se mantenga dentro de un presupuesto específico"
   ]
  },
  {
   "cell_type": "markdown",
   "id": "d29eca5b-7d19-4038-a6fb-d725a4245769",
   "metadata": {},
   "source": [
    "### Objetivo general:"
   ]
  },
  {
   "cell_type": "markdown",
   "id": "5b355caa-0aa6-4a98-bdde-dfcee16c9e24",
   "metadata": {},
   "source": [
    "\n",
    ">  -  1-.**Estimar el costo total de un proyecto de construcción**, considerando la incertidumbre en las principales variables mediante la simulación Monte Carlo, con el fin de apoyar la toma de decisiones financieras y estratégicas."
   ]
  },
  {
   "cell_type": "markdown",
   "id": "2b8d68b1-0041-47de-85ea-ea5d9d3ba20d",
   "metadata": {},
   "source": [
    "### Objetivo especificos:"
   ]
  },
  {
   "cell_type": "markdown",
   "id": "69ae6d6b-3d77-4bdb-aa63-6ddd759281a1",
   "metadata": {},
   "source": [
    " **Implementar una simulación para modelar la variabilidad de los costos principales del proyecto (materiales, mano de obra, equipo, etc.).**\n",
    "\n",
    ">   Descripción:\n",
    ">  -  Identificar los componentes clave del costo (ej. cemento, acero, trabajadores, alquiler de maquinaria)\n",
    ">  -  Establecer el número de iteraciones necesario para garantizar la precisión del modelo (por lo general, más de 10,000 simulaciones).\n",
    ">  -  Implementar el código de la simulación Monte Carlo en Python para generar escenarios aleatorios de costos.\n",
    "\n",
    "**Simular múltiples escenarios para obtener una distribución del costo total del proyecto:**\n",
    ">  - Ejecutar el modelo con las variables definidas en el objetivo anterior, generando una amplia gama de escenarios posibles.\n",
    ">  - Calcular el costo total del proyecto en cada simulación, sumando los costos de materiales, mano de obra, equipo, y otros.\n",
    ">  - Recopilar los resultados en una distribución del costo total, visualizando la frecuencia con la que se repiten ciertos valores de costo.\n",
    ">  -Utilizar herramientas gráficas, como histogramas o curvas de distribución, para facilitar la interpretación del comportamiento de los costos.\n",
    "\n",
    "**Determinar la probabilidad de que el costo total se mantenga dentro de un presupuesto específico, previamente definido.**\n",
    ">  - Comparar los resultados obtenidos con el presupuesto definido por el proyecto ( 5 millones de MXN). \n",
    ">  - Calcular la probabilidad de que los costos simulados no excedan el presupuesto utilizando simulaciones.\n",
    ">  - Determinar si se necesita ajustar el presupuesto o definir medidas de contingencia en caso de que exista un alto riesgo de sobrecostos.\n",
    ">  -Presentar los resultados mediante gráficas de probabilidad acumulada, indicando con claridad la probabilidad de mantener los costos dentro del presupuesto.\n"
   ]
  },
  {
   "cell_type": "markdown",
   "id": "0c3d6021-04d6-4c40-a3af-bac12f03746f",
   "metadata": {},
   "source": [
    "## Proyecto a realizar:\n",
    "### **Colado de una vialidad en una zona urbana**"
   ]
  },
  {
   "cell_type": "markdown",
   "id": "d40390d0-63d4-4f8c-b736-c91a876eb5f8",
   "metadata": {},
   "source": [
    "El colado de una vialidad en una zona urbana se refiere al proceso de construcción de la superficie de una calle, avenida o camino mediante la aplicación de concreto fresco (u hormigón) sobre el terreno preparado. Este proceso es fundamental para garantizar una superficie de rodamiento adecuada y resistente para vehículos y peatones en áreas urbanas. \n"
   ]
  },
  {
   "cell_type": "markdown",
   "id": "833fe3d9-885e-4b0c-8b7b-ba94e0d33d7e",
   "metadata": {},
   "source": [
    "### **Identifiacion costos:**\n",
    "\n",
    "  **Acero estructural:**\n",
    "  \n",
    "  *  $A_E \\sim N(18000, 33000)$\n",
    "\n",
    "  **Concreto premezclado:**\n",
    "  \n",
    " * Arena:\n",
    " * $P_A \\sim U(1850, 2200)$\n",
    " * Grava:\n",
    " * $P_G \\sim U(1850, 2200)$\n",
    "\n",
    " **Mano de obra: Obreros, ingenieros y supervisores.**\n",
    "\n",
    "* Obrero: \n",
    "* $M_O \\sim N(200, 20)$\n",
    "* Supervisores: \n",
    "* $M_S \\sim N(1300, 100)$\n",
    "* Ingenieros: \n",
    "* $M_I \\sim N(2200, 300)$ \n",
    "\n",
    " **Equipos:** \n",
    "\n",
    "* Camiones de volteo:\n",
    "* $C_V \\sim N(2000, 200) $\n",
    "* Retroexcavadores:\n",
    "* $E_R \\sim N(4000, 200) $\n",
    "* Compactadora:\n",
    "* $E_C \\sim N(4000, 200) $\n",
    "  \n",
    " **Mano de obra: Obreros, ingenieros y supervisores.**\n",
    "\n",
    " Los costos por retrasos asociados representan entre un $5$% y un $10$% del costo total del proyecto"
   ]
  },
  {
   "cell_type": "markdown",
   "id": "70cc2241-4588-4873-b98b-c445f662d6fc",
   "metadata": {},
   "source": [
    "**Gastos imprevistos:** \n",
    "Día por día simulando\n",
    "    np.random.choice([0, 1], p=[0.95, 0.05])\n",
    "    si pasa un imprevisto ese día no cuenta para el total de la construcción\n",
    "Retrasos por mal clima, permisos o errores cosntructivos\n",
    "\n",
    "Los costos por retrasos asociados representan entre un $5$% y un $10$% del costo total del proyecto\n",
    "\n",
    "**Tiempo promedio esperado para la elaboración del colado**\n",
    "\n",
    "4-6 meses"
   ]
  },
  {
   "cell_type": "markdown",
   "id": "e6f0a88b-1524-44a3-b48d-a3ff84946e75",
   "metadata": {},
   "source": [
    "**Longitud total:**\n",
    "500 metros\n",
    "\n",
    "\n",
    "**Espesor:**\n",
    "\n",
    ".30 m concreto\n",
    "\n",
    ".50 m grava\n",
    "\n",
    "1 m arena\n",
    "\n",
    "**Ancho:**\n",
    "\n",
    "3.5 metros\n",
    "\n",
    "**Volumenes:**\n",
    "\n",
    "Concreto: 525 m3\n",
    "\n",
    "Arena: 1750 m3\n",
    "\n",
    "Grava: 875 m3"
   ]
  },
  {
   "cell_type": "markdown",
   "id": "172ec417-86dc-436a-8f87-73e7cc3ff042",
   "metadata": {},
   "source": [
    "## Deducción del Modelo:\n",
    "\n",
    "### Funcion:\n",
    "**Costos totales del proyecto:**\n",
    "$$ Costos totales = materiales + mano de obra + maquinaria + imprevistos $$\n",
    "\n",
    "**Costos de Materiales:**\n",
    "$$Materiales = acero + concreto + grava + tepetate$$\n",
    "\n",
    "**Costos de mano de obra:**\n",
    "$$Mano de obra = (obrero + supervisor + ingeniero) * dias trabajados$$\n",
    "\n",
    "**Costo de equipos:**\n",
    "$$ Suma total de la maquinaria = compactadora + retro + camion de volteo  $$\n",
    "\n",
    "**Gastos imprevistos:**\n",
    "$$ Costo final = costo total del proyecto * imprevistos $$"
   ]
  },
  {
   "cell_type": "code",
   "execution_count": 95,
   "id": "9cdd8c9e-5a06-42d9-b247-668f2772093c",
   "metadata": {},
   "outputs": [],
   "source": [
    "import numpy as np\n",
    "import matplotlib.pyplot as plt\n",
    "import pandas as pd\n",
    "\n",
    "n = 10000\n",
    "# n = 10000000\n",
    "\n",
    "# Rango de precios de los materiales\n",
    "precioacero = np.random.normal(18000, 33000, n)\n",
    "precioconcreto = np.random.uniform(1850, 2200, n)\n",
    "preciograva = np.random.uniform(1150, 1500, n)\n",
    "precioarena = np.random.uniform(500, 600, n)\n",
    "\n",
    "#Rango de precios de los trabajadores\n",
    "obrero = np.random.normal(200, 20) \n",
    "supervisor = np.random.normal(1300, 100) \n",
    "ing = np.random.normal(2200, 300) \n",
    "\n",
    "#Rango de precios de maquinaria\n",
    "camiones = np.random.normal(2000, 200) \n",
    "retro = np.random.normal(3500, 200) \n",
    "compactadora = np.random.normal(2250, 200) \n",
    "\n",
    "# Consideren scrap\n",
    "# Material total U(95%, 115%)\n",
    "kgacero= np.random.uniform(600*.95, 600*1.15, n)\n",
    "m3concreto= np.random.uniform(525*.95, 600*1.15, n)\n",
    "m3grava= np.random.uniform(1725*.95, 1725*1.15, n)\n",
    "m3arena= np.random.uniform(875*.95, 875*1.15, n)\n",
    "\n"
   ]
  },
  {
   "cell_type": "code",
   "execution_count": null,
   "id": "67cb85ac-4a39-4860-a37e-d835512d1dd6",
   "metadata": {},
   "outputs": [],
   "source": [
    "# Duración del colado\n",
    "# cambiar por caminata aleatoria\n",
    "\n",
    "def duración():\n",
    "    np.random.choice([0, 1], p=[0.95, 0.05])\n",
    "\n",
    "\n",
    "#duracionproyecto = np.random.randint(4, 7, n)  # Duración en meses\n",
    "#dias = duracionproyecto * 30 #promedio 30 dias \n",
    "\n",
    "\n",
    "####### COSTO FINAL RESULTA DE PRECIOS COTIZADOS * DÍAS SIMULADOS CON IMPREVISTOS costomo = (obrero + supervisor + ing) * dias\n",
    "\n",
    "\n",
    "\n",
    "\n",
    "costomaq = (camiones + retro + compactadora) * dias\n",
    "\n",
    "\n",
    "# Cálculo de costos totales\n",
    "costotot = (precioacero*kgacero + precioconcreto*m3concreto + preciograva*m3grava + precioarena*m3arena + costomo + costomaq)\n",
    "\n",
    "# Cálculo de gastos imprevistos\n",
    "imprevistos = costotot * np.random.uniform(0.05, 0.15, n)\n",
    "costofinal = costotot + imprevistos\n",
    "\n",
    "\n",
    "# Probabilidad de estar dentro del presupuesto\n",
    "prob = np.mean(costofinal <= presupuesto)\n",
    "print(f'La probabilidad de que el proyecto entre en el presupuesto es: {prob * 100:.2f}%')"
   ]
  },
  {
   "cell_type": "code",
   "execution_count": 36,
   "id": "ae9932f2-7baa-4f38-97d9-dfff0b92fe67",
   "metadata": {},
   "outputs": [
    {
     "name": "stdout",
     "output_type": "stream",
     "text": [
      "Simulacion de los costos totales:\n",
      "4335053.74574074\n",
      "240212.7773122163\n"
     ]
    },
    {
     "data": {
      "text/html": [
       "<div>\n",
       "<style scoped>\n",
       "    .dataframe tbody tr th:only-of-type {\n",
       "        vertical-align: middle;\n",
       "    }\n",
       "\n",
       "    .dataframe tbody tr th {\n",
       "        vertical-align: top;\n",
       "    }\n",
       "\n",
       "    .dataframe thead th {\n",
       "        text-align: right;\n",
       "    }\n",
       "</style>\n",
       "<table border=\"1\" class=\"dataframe\">\n",
       "  <thead>\n",
       "    <tr style=\"text-align: right;\">\n",
       "      <th></th>\n",
       "      <th>0</th>\n",
       "    </tr>\n",
       "  </thead>\n",
       "  <tbody>\n",
       "    <tr>\n",
       "      <th>0</th>\n",
       "      <td>4.607028e+06</td>\n",
       "    </tr>\n",
       "    <tr>\n",
       "      <th>1</th>\n",
       "      <td>4.069661e+06</td>\n",
       "    </tr>\n",
       "    <tr>\n",
       "      <th>2</th>\n",
       "      <td>4.251711e+06</td>\n",
       "    </tr>\n",
       "    <tr>\n",
       "      <th>3</th>\n",
       "      <td>4.176911e+06</td>\n",
       "    </tr>\n",
       "    <tr>\n",
       "      <th>4</th>\n",
       "      <td>4.346295e+06</td>\n",
       "    </tr>\n",
       "    <tr>\n",
       "      <th>...</th>\n",
       "      <td>...</td>\n",
       "    </tr>\n",
       "    <tr>\n",
       "      <th>9995</th>\n",
       "      <td>4.785473e+06</td>\n",
       "    </tr>\n",
       "    <tr>\n",
       "      <th>9996</th>\n",
       "      <td>4.348093e+06</td>\n",
       "    </tr>\n",
       "    <tr>\n",
       "      <th>9997</th>\n",
       "      <td>4.651206e+06</td>\n",
       "    </tr>\n",
       "    <tr>\n",
       "      <th>9998</th>\n",
       "      <td>3.932691e+06</td>\n",
       "    </tr>\n",
       "    <tr>\n",
       "      <th>9999</th>\n",
       "      <td>4.315071e+06</td>\n",
       "    </tr>\n",
       "  </tbody>\n",
       "</table>\n",
       "<p>10000 rows × 1 columns</p>\n",
       "</div>"
      ],
      "text/plain": [
       "                 0\n",
       "0     4.607028e+06\n",
       "1     4.069661e+06\n",
       "2     4.251711e+06\n",
       "3     4.176911e+06\n",
       "4     4.346295e+06\n",
       "...            ...\n",
       "9995  4.785473e+06\n",
       "9996  4.348093e+06\n",
       "9997  4.651206e+06\n",
       "9998  3.932691e+06\n",
       "9999  4.315071e+06\n",
       "\n",
       "[10000 rows x 1 columns]"
      ]
     },
     "execution_count": 36,
     "metadata": {},
     "output_type": "execute_result"
    }
   ],
   "source": [
    "# Análisis estadístico\n",
    "promcostofinal = np.mean(costofinal)\n",
    "desvestcostofinal = np.std(costofinal)\n",
    "\n",
    "print(\"Simulacion de los costos totales:\")\n",
    "print(promcostofinal)\n",
    "print(desvestcostofinal)                                                                              \n",
    "simulaciones_df = pd.DataFrame(costofinal)\n",
    "simulaciones_df"
   ]
  },
  {
   "cell_type": "markdown",
   "id": "ef01bc61-2751-4d54-b9b3-3c346d2d19c9",
   "metadata": {},
   "source": [
    "##### ¿Qué situación representa el modelo?"
   ]
  },
  {
   "cell_type": "code",
   "execution_count": null,
   "id": "b0a31df7-4e4c-4493-a777-5745420f6bac",
   "metadata": {},
   "outputs": [],
   "source": []
  },
  {
   "cell_type": "code",
   "execution_count": null,
   "id": "ed351977-f172-4485-87a7-8c3424c79deb",
   "metadata": {},
   "outputs": [],
   "source": []
  },
  {
   "cell_type": "markdown",
   "id": "c892d9d2-1b7c-4711-8d8a-26b8e69fb65e",
   "metadata": {},
   "source": [
    "#### ¿Cuáles son las limitaciones fundamentales?"
   ]
  },
  {
   "cell_type": "code",
   "execution_count": null,
   "id": "8a780caa-a4c8-4de2-84e6-55ec0d1c6f6d",
   "metadata": {},
   "outputs": [],
   "source": []
  },
  {
   "cell_type": "markdown",
   "id": "c0d3bb20-a1b4-4697-a1ab-a73f04e40fe5",
   "metadata": {},
   "source": [
    "### Visualización de la solución del problema:"
   ]
  },
  {
   "cell_type": "code",
   "execution_count": 53,
   "id": "a46bac1c-01f5-4580-8f79-801cc1155bee",
   "metadata": {},
   "outputs": [
    {
     "data": {
      "image/png": "[encoded data removed]",
      "text/plain": [
       "<Figure size 640x480 with 1 Axes>"
      ]
     },
     "metadata": {},
     "output_type": "display_data"
    }
   ],
   "source": [
    "\n",
    "plt.hist(costofinal, bins=30)\n",
    "plt.axvline(presupuesto, color='r', )\n",
    "plt.title('Distribución de Costos Totales del Proyecto')\n",
    "plt.xlabel('Costo Total (MXN)')\n",
    "plt.ylabel('Frecuencia')\n",
    "plt.show()"
   ]
  },
  {
   "cell_type": "markdown",
   "id": "1c4a221f-ae92-4eb9-b946-97d26e681402",
   "metadata": {},
   "source": [
    "### ¿Condujo el algoritmo a una solución factible?"
   ]
  },
  {
   "cell_type": "code",
   "execution_count": null,
   "id": "8d05fb03-2e7e-4f3c-aa73-2356ad0896b4",
   "metadata": {},
   "outputs": [],
   "source": []
  },
  {
   "cell_type": "markdown",
   "id": "6d079dd6-c7bf-4f6b-9ae8-85a51fbb9611",
   "metadata": {},
   "source": [
    "### Conclusiones:"
   ]
  },
  {
   "cell_type": "code",
   "execution_count": null,
   "id": "11a9a4d2-9131-40ba-9cf3-5487787ae67e",
   "metadata": {},
   "outputs": [],
   "source": []
  },
  {
   "cell_type": "markdown",
   "id": "c7acf676-8a52-42bf-bf31-afe5620dbc3d",
   "metadata": {},
   "source": [
    "### Referencias:"
   ]
  },
  {
   "cell_type": "markdown",
   "id": "f1cd64ab-890a-40bb-901b-e64ed3a2c7b0",
   "metadata": {},
   "source": [
    "Viga IPR precios. (2018, mayo 16). Acerolaminados. https://acerolaminados.com.mx/viga-ipr-precios/   \n",
    "\n",
    "Precio Unitario de Concreto Premezclado y Hecho en Obra. (2024, marzo 1).https://preciosunitariosconstruccion.com/basicos/concreto/#google_vignette\n",
    "\n",
    "Solano, G. (2024, mayo 3). ¿Cuánto gana un albañil por día en México? El Informador :: Noticias de Jalisco, México, Deportes & Entretenimiento. https://www.informador.mx/mexico/Cuanto-gana-un-albanil-por-dia-en-Mexico-20240503-0051.html\n",
    "\n",
    "(S/f). Gruasyequiposgarcia.com. Recuperado el 29 de octubre de 2024, de https://www.gruasyequiposgarcia.com/gruas-industriales/\r\n",
    "Cotizaciones para Transporte de Mercancía de Contrucción. (s/f). Uship.com. Recuperado el 29 de octubre de 2024, de https://www.uship.com/mx/precio-de-env%C3%ADo/mercanc%C3%ADas-industriales-y-de-negocios-2/materiales-equipo-y-maquinaria-de-construcci%C3%B3n-22/\r\n",
    "\r\n",
    "\r\n"
   ]
  },
  {
   "cell_type": "code",
   "execution_count": null,
   "id": "7b575b59-27b6-4b54-a806-9d43b4e86d2a",
   "metadata": {},
   "outputs": [],
   "source": []
  }
 ],
 "metadata": {
  "kernelspec": {
   "display_name": "Python 3 (ipykernel)",
   "language": "python",
   "name": "python3"
  },
  "language_info": {
   "codemirror_mode": {
    "name": "ipython",
    "version": 3
   },
   "file_extension": ".py",
   "mimetype": "text/x-python",
   "name": "python",
   "nbconvert_exporter": "python",
   "pygments_lexer": "ipython3",
   "version": "3.12.4"
  }
 },
 "nbformat": 4,
 "nbformat_minor": 5
}
